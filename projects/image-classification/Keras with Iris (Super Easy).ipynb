{
 "cells": [
  {
   "cell_type": "code",
   "execution_count": 1,
   "metadata": {},
   "outputs": [
    {
     "name": "stderr",
     "output_type": "stream",
     "text": [
      "C:\\ProgramData\\Anaconda3\\lib\\site-packages\\h5py\\__init__.py:36: FutureWarning: Conversion of the second argument of issubdtype from `float` to `np.floating` is deprecated. In future, it will be treated as `np.float64 == np.dtype(float).type`.\n",
      "  from ._conv import register_converters as _register_converters\n"
     ]
    }
   ],
   "source": [
    "import tensorflow as tf\n",
    "mnist = tf.keras.datasets.mnist\n",
    "(x_train,y_train),(x_test,y_test) = mnist.load_data()\n",
    "x_train = tf.keras.utils.normalize(x_train, axis=1)\n",
    "x_test = tf.keras.utils.normalize(x_test, axis=1)"
   ]
  },
  {
   "cell_type": "code",
   "execution_count": 12,
   "metadata": {},
   "outputs": [
    {
     "data": {
      "text/plain": [
       "array([5, 0, 4, ..., 5, 6, 8], dtype=uint8)"
      ]
     },
     "execution_count": 12,
     "metadata": {},
     "output_type": "execute_result"
    }
   ],
   "source": [
    "y_train"
   ]
  },
  {
   "cell_type": "code",
   "execution_count": 2,
   "metadata": {},
   "outputs": [
    {
     "data": {
      "text/plain": [
       "(10000, 28, 28)"
      ]
     },
     "execution_count": 2,
     "metadata": {},
     "output_type": "execute_result"
    }
   ],
   "source": [
    "import matplotlib.pyplot as plt\n",
    "import numpy as np\n",
    "#plt.imshow(x_train[7],cmap=plt.cm.binary)\n",
    "x_test.shape"
   ]
  },
  {
   "cell_type": "code",
   "execution_count": 3,
   "metadata": {},
   "outputs": [],
   "source": [
    "model = tf.keras.models.Sequential()\n",
    "model.add(tf.keras.layers.Flatten()) #convert 28x28 to 784x1\n",
    "model.add(tf.keras.layers.Dense(128, activation=tf.nn.relu)) #neural 128 layer activation relu\n",
    "model.add(tf.keras.layers.Dense(128, activation=tf.nn.relu))\n",
    "model.add(tf.keras.layers.Dense(10, activation=tf.nn.softmax)) #last NN class 0-9 = 10 neural  activation softmax"
   ]
  },
  {
   "cell_type": "code",
   "execution_count": 4,
   "metadata": {},
   "outputs": [
    {
     "name": "stdout",
     "output_type": "stream",
     "text": [
      "Epoch 1/3\n",
      "60000/60000 [==============================] - 3s 54us/step - loss: 0.2643 - acc: 0.9220\n",
      "Epoch 2/3\n",
      "60000/60000 [==============================] - 3s 48us/step - loss: 0.1093 - acc: 0.9658\n",
      "Epoch 3/3\n",
      "60000/60000 [==============================] - 3s 50us/step - loss: 0.0744 - acc: 0.9763\n"
     ]
    },
    {
     "data": {
      "text/plain": [
       "<tensorflow.python.keras.callbacks.History at 0x1db45aa4da0>"
      ]
     },
     "execution_count": 4,
     "metadata": {},
     "output_type": "execute_result"
    }
   ],
   "source": [
    "model.compile(optimizer=\"adam\",\n",
    "loss=\"sparse_categorical_crossentropy\", metrics=[\"accuracy\"])\n",
    "model.fit(x_train, y_train, epochs=3)"
   ]
  },
  {
   "cell_type": "code",
   "execution_count": 5,
   "metadata": {},
   "outputs": [
    {
     "name": "stdout",
     "output_type": "stream",
     "text": [
      "10000/10000 [==============================] - 0s 22us/step\n"
     ]
    },
    {
     "data": {
      "text/plain": [
       "0.9697"
      ]
     },
     "execution_count": 5,
     "metadata": {},
     "output_type": "execute_result"
    }
   ],
   "source": [
    "val_loss, val_acc = model.evaluate(x_test, y_test)\n",
    "val_acc"
   ]
  },
  {
   "cell_type": "code",
   "execution_count": 6,
   "metadata": {},
   "outputs": [
    {
     "data": {
      "text/plain": [
       "0.0972038076557219"
      ]
     },
     "execution_count": 6,
     "metadata": {},
     "output_type": "execute_result"
    }
   ],
   "source": [
    "val_loss"
   ]
  },
  {
   "cell_type": "code",
   "execution_count": 7,
   "metadata": {},
   "outputs": [],
   "source": [
    "predict = model.predict([x_test])"
   ]
  },
  {
   "cell_type": "code",
   "execution_count": 8,
   "metadata": {},
   "outputs": [],
   "source": [
    "y_pred = np.argmax(predict,axis=1)"
   ]
  },
  {
   "cell_type": "code",
   "execution_count": 9,
   "metadata": {},
   "outputs": [
    {
     "data": {
      "text/plain": [
       "247"
      ]
     },
     "execution_count": 9,
     "metadata": {},
     "output_type": "execute_result"
    }
   ],
   "source": [
    "np.argmax((y_pred != y_test).astype(int)) #index correct predict"
   ]
  },
  {
   "cell_type": "code",
   "execution_count": 10,
   "metadata": {},
   "outputs": [
    {
     "data": {
      "text/plain": [
       "2"
      ]
     },
     "execution_count": 10,
     "metadata": {},
     "output_type": "execute_result"
    }
   ],
   "source": [
    "y_test[38] #answer"
   ]
  },
  {
   "cell_type": "code",
   "execution_count": 11,
   "metadata": {},
   "outputs": [
    {
     "data": {
      "text/plain": [
       "2"
      ]
     },
     "execution_count": 11,
     "metadata": {},
     "output_type": "execute_result"
    }
   ],
   "source": [
    "y_pred[38] #predict"
   ]
  },
  {
   "cell_type": "code",
   "execution_count": 52,
   "metadata": {
    "scrolled": true
   },
   "outputs": [
    {
     "data": {
      "text/plain": [
       "<matplotlib.image.AxesImage at 0x19a0117fa58>"
      ]
     },
     "execution_count": 52,
     "metadata": {},
     "output_type": "execute_result"
    },
    {
     "data": {
      "image/png": "[encoded data removed]",
      "text/plain": [
       "<Figure size 432x288 with 1 Axes>"
      ]
     },
     "metadata": {},
     "output_type": "display_data"
    }
   ],
   "source": [
    "plt.imshow(x_test[38]) #true answer"
   ]
  },
  {
   "cell_type": "code",
   "execution_count": 57,
   "metadata": {
    "scrolled": true
   },
   "outputs": [
    {
     "data": {
      "text/plain": [
       "[38,\n",
       " 151,\n",
       " 199,\n",
       " 217,\n",
       " 247,\n",
       " 259,\n",
       " 274,\n",
       " 320,\n",
       " 321,\n",
       " 340,\n",
       " 404,\n",
       " 444,\n",
       " 445,\n",
       " 448,\n",
       " 492,\n",
       " 508,\n",
       " 547,\n",
       " 583,\n",
       " 610,\n",
       " 613,\n",
       " 619,\n",
       " 659,\n",
       " 690,\n",
       " 691,\n",
       " 740,\n",
       " 810,\n",
       " 828,\n",
       " 829,\n",
       " 844,\n",
       " 882,\n",
       " 900,\n",
       " 926,\n",
       " 947,\n",
       " 950,\n",
       " 951,\n",
       " 975,\n",
       " 1002,\n",
       " 1003,\n",
       " 1014,\n",
       " 1039,\n",
       " 1044,\n",
       " 1050,\n",
       " 1107,\n",
       " 1112,\n",
       " 1156,\n",
       " 1182,\n",
       " 1194,\n",
       " 1206,\n",
       " 1226,\n",
       " 1228,\n",
       " 1232,\n",
       " 1242,\n",
       " 1247,\n",
       " 1260,\n",
       " 1299,\n",
       " 1319,\n",
       " 1326,\n",
       " 1349,\n",
       " 1378,\n",
       " 1393,\n",
       " 1414,\n",
       " 1476,\n",
       " 1500,\n",
       " 1522,\n",
       " 1530,\n",
       " 1549,\n",
       " 1553,\n",
       " 1581,\n",
       " 1609,\n",
       " 1621,\n",
       " 1670,\n",
       " 1681,\n",
       " 1709,\n",
       " 1717,\n",
       " 1751,\n",
       " 1754,\n",
       " 1790,\n",
       " 1800,\n",
       " 1871,\n",
       " 1878,\n",
       " 1901,\n",
       " 1938,\n",
       " 1952,\n",
       " 1970,\n",
       " 1987,\n",
       " 2016,\n",
       " 2033,\n",
       " 2043,\n",
       " 2070,\n",
       " 2093,\n",
       " 2098,\n",
       " 2109,\n",
       " 2118,\n",
       " 2129,\n",
       " 2130,\n",
       " 2135,\n",
       " 2138,\n",
       " 2182,\n",
       " 2186,\n",
       " 2189,\n",
       " 2272,\n",
       " 2292,\n",
       " 2293,\n",
       " 2326,\n",
       " 2387,\n",
       " 2406,\n",
       " 2414,\n",
       " 2433,\n",
       " 2488,\n",
       " 2526,\n",
       " 2534,\n",
       " 2582,\n",
       " 2607,\n",
       " 2610,\n",
       " 2648,\n",
       " 2654,\n",
       " 2713,\n",
       " 2720,\n",
       " 2730,\n",
       " 2743,\n",
       " 2758,\n",
       " 2780,\n",
       " 2810,\n",
       " 2848,\n",
       " 2877,\n",
       " 2896,\n",
       " 2915,\n",
       " 2939,\n",
       " 2953,\n",
       " 2979,\n",
       " 2995,\n",
       " 3030,\n",
       " 3060,\n",
       " 3073,\n",
       " 3114,\n",
       " 3117,\n",
       " 3207,\n",
       " 3251,\n",
       " 3289,\n",
       " 3330,\n",
       " 3405,\n",
       " 3503,\n",
       " 3504,\n",
       " 3520,\n",
       " 3558,\n",
       " 3559,\n",
       " 3597,\n",
       " 3681,\n",
       " 3688,\n",
       " 3702,\n",
       " 3751,\n",
       " 3757,\n",
       " 3767,\n",
       " 3773,\n",
       " 3776,\n",
       " 3780,\n",
       " 3796,\n",
       " 3808,\n",
       " 3811,\n",
       " 3838,\n",
       " 3853,\n",
       " 3869,\n",
       " 3893,\n",
       " 3902,\n",
       " 3906,\n",
       " 3926,\n",
       " 3941,\n",
       " 3943,\n",
       " 3985,\n",
       " 4000,\n",
       " 4015,\n",
       " 4018,\n",
       " 4065,\n",
       " 4075,\n",
       " 4078,\n",
       " 4093,\n",
       " 4100,\n",
       " 4163,\n",
       " 4167,\n",
       " 4176,\n",
       " 4211,\n",
       " 4224,\n",
       " 4255,\n",
       " 4271,\n",
       " 4289,\n",
       " 4294,\n",
       " 4321,\n",
       " 4333,\n",
       " 4344,\n",
       " 4350,\n",
       " 4355,\n",
       " 4356,\n",
       " 4360,\n",
       " 4369,\n",
       " 4425,\n",
       " 4477,\n",
       " 4497,\n",
       " 4500,\n",
       " 4536,\n",
       " 4540,\n",
       " 4601,\n",
       " 4639,\n",
       " 4740,\n",
       " 4761,\n",
       " 4807,\n",
       " 4808,\n",
       " 4814,\n",
       " 4823,\n",
       " 4837,\n",
       " 4861,\n",
       " 4880,\n",
       " 4886,\n",
       " 4939,\n",
       " 4943,\n",
       " 4950,\n",
       " 4956,\n",
       " 4978,\n",
       " 4995,\n",
       " 4997,\n",
       " 5078,\n",
       " 5140,\n",
       " 5176,\n",
       " 5201,\n",
       " 5217,\n",
       " 5246,\n",
       " 5331,\n",
       " 5457,\n",
       " 5562,\n",
       " 5626,\n",
       " 5634,\n",
       " 5642,\n",
       " 5676,\n",
       " 5734,\n",
       " 5749,\n",
       " 5835,\n",
       " 5887,\n",
       " 5926,\n",
       " 5937,\n",
       " 5955,\n",
       " 5973,\n",
       " 5982,\n",
       " 6023,\n",
       " 6045,\n",
       " 6046,\n",
       " 6059,\n",
       " 6071,\n",
       " 6081,\n",
       " 6093,\n",
       " 6101,\n",
       " 6115,\n",
       " 6166,\n",
       " 6168,\n",
       " 6173,\n",
       " 6400,\n",
       " 6555,\n",
       " 6560,\n",
       " 6568,\n",
       " 6571,\n",
       " 6574,\n",
       " 6577,\n",
       " 6597,\n",
       " 6598,\n",
       " 6608,\n",
       " 6651,\n",
       " 6759,\n",
       " 7216,\n",
       " 7420,\n",
       " 7432,\n",
       " 7434,\n",
       " 7473,\n",
       " 7482,\n",
       " 7486,\n",
       " 7505,\n",
       " 7511,\n",
       " 7574,\n",
       " 7595,\n",
       " 7619,\n",
       " 7637,\n",
       " 7783,\n",
       " 7812,\n",
       " 7886,\n",
       " 7899,\n",
       " 7991,\n",
       " 8020,\n",
       " 8059,\n",
       " 8062,\n",
       " 8094,\n",
       " 8112,\n",
       " 8198,\n",
       " 8255,\n",
       " 8325,\n",
       " 8406,\n",
       " 8408,\n",
       " 8453,\n",
       " 8493,\n",
       " 8502,\n",
       " 9009,\n",
       " 9015,\n",
       " 9024,\n",
       " 9032,\n",
       " 9045,\n",
       " 9046,\n",
       " 9071,\n",
       " 9123,\n",
       " 9201,\n",
       " 9211,\n",
       " 9225,\n",
       " 9280,\n",
       " 9422,\n",
       " 9530,\n",
       " 9535,\n",
       " 9587,\n",
       " 9634,\n",
       " 9664,\n",
       " 9669,\n",
       " 9679,\n",
       " 9700,\n",
       " 9716,\n",
       " 9726,\n",
       " 9729,\n",
       " 9749,\n",
       " 9755,\n",
       " 9770,\n",
       " 9792,\n",
       " 9803,\n",
       " 9808,\n",
       " 9811,\n",
       " 9839,\n",
       " 9849,\n",
       " 9867,\n",
       " 9874,\n",
       " 9904,\n",
       " 9970,\n",
       " 9980,\n",
       " 9982]"
      ]
     },
     "execution_count": 57,
     "metadata": {},
     "output_type": "execute_result"
    }
   ],
   "source": [
    "temp = (y_pred != y_test).astype(int) #ดูตัวที่ผิดทั้งหมด\n",
    "indices = [i for i,x in enumerate(temp) if x == 1]\n",
    "indices"
   ]
  },
  {
   "cell_type": "code",
   "execution_count": null,
   "metadata": {},
   "outputs": [],
   "source": []
  }
 ],
 "metadata": {
  "kernelspec": {
   "display_name": "Python 3",
   "language": "python",
   "name": "python3"
  },
  "language_info": {
   "codemirror_mode": {
    "name": "ipython",
    "version": 3
   },
   "file_extension": ".py",
   "mimetype": "text/x-python",
   "name": "python",
   "nbconvert_exporter": "python",
   "pygments_lexer": "ipython3",
   "version": "3.6.5"
  }
 },
 "nbformat": 4,
 "nbformat_minor": 2
}
