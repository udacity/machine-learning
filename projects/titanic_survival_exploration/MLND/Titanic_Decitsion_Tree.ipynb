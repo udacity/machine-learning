{
 "cells": [
  {
   "cell_type": "markdown",
   "metadata": {
    "collapsed": true
   },
   "source": [
    "Create a decision tree classisfier with the titanic data set in order to explore the series of decisions that produces the best accuracy performance."
   ]
  },
  {
   "cell_type": "code",
   "execution_count": 80,
   "metadata": {
    "collapsed": true
   },
   "outputs": [],
   "source": [
    "# load the necessary libraries\n",
    "import numpy as np\n",
    "import pandas as pd\n",
    "from sklearn import tree"
   ]
  },
  {
   "cell_type": "markdown",
   "metadata": {},
   "source": [
    "Load the titanic data frame and select only the meaningful features for further classification.\n",
    "1- Remove the following features ['Survived', 'Name', 'Ticket', 'Cabin', 'Ticket', 'Embarked']\n",
    "    -Convert the 'Sex' feature to integer values, because sklearn decision trees work only with integers\n",
    "        -Make 'Femele' = 0 and 'Male' = 1"
   ]
  },
  {
   "cell_type": "code",
   "execution_count": 139,
   "metadata": {
    "collapsed": false
   },
   "outputs": [
    {
     "name": "stdout",
     "output_type": "stream",
     "text": [
      "714\n"
     ]
    }
   ],
   "source": [
    "data = pd.read_csv('titanic_data.csv', sep=',')\n",
    "\n",
    "# clean up NaN values\n",
    "data = data[np.isfinite(data['Age'])]\n",
    "\n",
    "# remove the 'Survived' feature since it is out targets\n",
    "target_names = ['Dead','Survived']\n",
    "targets = data['Survived'].values\n",
    "\n",
    "features = data.drop(['PassengerId', 'Survived', 'Name', 'Ticket', \n",
    "                      'Cabin', 'Ticket', 'Embarked', 'Fare', 'SibSp', 'Parch'], axis = 1)\n",
    "\n",
    "idx = features.loc[:, 'Sex'] == 'female'\n",
    "features.loc[idx, 'Sex'] = 0\n",
    "\n",
    "idx = features.loc[:, 'Sex'] == 'male'\n",
    "features.loc[idx, 'Sex'] = 1\n",
    "\n",
    "feature_names = list(features)\n",
    "features = features.values\n",
    "\n",
    "print len(features)\n",
    "\n",
    "testing_data_size = 178\n",
    "train_features = np.delete(features, range(0,testing_data_size), axis=0)\n",
    "train_labels = np.delete(targets, range(0,testing_data_size))\n",
    "\n",
    "#print len(train_features)\n",
    "#print len(train_labels)\n",
    "\n",
    "test_features = features[0:testing_data_size]\n",
    "test_labels = targets[0:testing_data_size]\n",
    "\n",
    "#print len(test_features)\n",
    "#print len(test_labels)\n",
    "\n",
    "#print test_features\n",
    "#print test_labels"
   ]
  },
  {
   "cell_type": "code",
   "execution_count": 140,
   "metadata": {
    "collapsed": true
   },
   "outputs": [],
   "source": [
    "def accuracy(truth, predictions):\n",
    "    if (len(truth == len(predictions))):\n",
    "        return (truth == predictions).mean()*100\n",
    "    else:\n",
    "        print \"The size of the datasets does not match\""
   ]
  },
  {
   "cell_type": "code",
   "execution_count": 141,
   "metadata": {
    "collapsed": false
   },
   "outputs": [
    {
     "name": "stdout",
     "output_type": "stream",
     "text": [
      "Accuracy: 78.6516853933 %\n"
     ]
    }
   ],
   "source": [
    "# create a decision tree classifier\n",
    "clf = tree.DecisionTreeClassifier()\n",
    "clf.fit(train_features, train_labels)\n",
    "\n",
    "predictions = clf.predict(test_features)\n",
    "\n",
    "print \"Accuracy:\", accuracy(test_labels, predictions),\"%\""
   ]
  },
  {
   "cell_type": "code",
   "execution_count": 142,
   "metadata": {
    "collapsed": false
   },
   "outputs": [
    {
     "data": {
      "text/plain": [
       "True"
      ]
     },
     "execution_count": 142,
     "metadata": {},
     "output_type": "execute_result"
    }
   ],
   "source": [
    "from sklearn.externals.six import StringIO  \n",
    "import pydot\n",
    "\n",
    "dot_data = StringIO()  \n",
    "tree.export_graphviz(clf, out_file=dot_data,  \n",
    "                         feature_names=feature_names,  \n",
    "                         class_names=target_names,  \n",
    "                         filled=True, rounded=True,  \n",
    "                         impurity=False)  \n",
    "graph = pydot.graph_from_dot_data(dot_data.getvalue())  \n",
    "graph.write_pdf(\"titanic.pdf\") "
   ]
  },
  {
   "cell_type": "code",
   "execution_count": null,
   "metadata": {
    "collapsed": true
   },
   "outputs": [],
   "source": []
  }
 ],
 "metadata": {
  "kernelspec": {
   "display_name": "Python 2",
   "language": "python",
   "name": "python2"
  },
  "language_info": {
   "codemirror_mode": {
    "name": "ipython",
    "version": 2
   },
   "file_extension": ".py",
   "mimetype": "text/x-python",
   "name": "python",
   "nbconvert_exporter": "python",
   "pygments_lexer": "ipython2",
   "version": "2.7.11"
  }
 },
 "nbformat": 4,
 "nbformat_minor": 0
}
